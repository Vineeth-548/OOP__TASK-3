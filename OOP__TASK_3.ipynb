{
  "nbformat": 4,
  "nbformat_minor": 0,
  "metadata": {
    "colab": {
      "name": "OOP__TASK-3.ipynb",
      "provenance": [],
      "authorship_tag": "ABX9TyMActrEZzIbHk3SrSRU4vn9",
      "include_colab_link": true
    },
    "kernelspec": {
      "name": "python3",
      "display_name": "Python 3"
    },
    "language_info": {
      "name": "python"
    }
  },
  "cells": [
    {
      "cell_type": "markdown",
      "metadata": {
        "id": "view-in-github",
        "colab_type": "text"
      },
      "source": [
        "<a href=\"https://colab.research.google.com/github/Vineeth-548/OOP__TASK-3/blob/main/OOP__TASK_3.ipynb\" target=\"_parent\"><img src=\"https://colab.research.google.com/assets/colab-badge.svg\" alt=\"Open In Colab\"/></a>"
      ]
    },
    {
      "cell_type": "markdown",
      "metadata": {
        "id": "ZodYxug1kGFB"
      },
      "source": [
        "**Problem-1:**\n",
        "\n",
        "Write a python program to demonstrate the inheritance principle of OOP. Create a\n",
        "Student class that includes student’s basic information : Name, Reg no, Age, Gender,\n",
        "Branch, Sem. Define functions to read and display basic information. Create a new class\n",
        "StudentResultInfo that inherits from Student class. Derived class will include student’s\n",
        "total marks, percentage and grade. Display student’s basic information and result\n",
        "information using derived class."
      ]
    },
    {
      "cell_type": "code",
      "metadata": {
        "id": "AqQ9f6dTPmm1",
        "colab": {
          "base_uri": "https://localhost:8080/"
        },
        "outputId": "2b29d759-d4e4-480e-c7e2-07094510a7c9"
      },
      "source": [
        "class Student( object ):            \n",
        "        def __init__(self, name, idnumber, age, gender, branch, sem):   \n",
        "                self.name = name\n",
        "                self.idnumber = idnumber\n",
        "                self.age = age\n",
        "                self.gender = gender\n",
        "                self.branch = branch\n",
        "                self.sem = sem\n",
        "        def display(self):\n",
        "                print(self.name)\n",
        "                print(self.idnumber)\n",
        "                print(self.age)\n",
        "                print(self.gender)\n",
        "                print(self.branch)\n",
        "                print(self.sem)\n",
        "\n",
        "class StudentResult( Student ):           \n",
        "        def __init__(self, totalmarks, percentage, grade):\n",
        "                self.totalmarks = totalmarks\n",
        "                self.percentage = percentage\n",
        "                self.grade = grade\n",
        "        def display(self):\n",
        "                print(self.totalmarks)\n",
        "                print(self.percentage)\n",
        "                print(self.grade)\n",
        "\n",
        "st = Student(\"MY name is : Vineeth S R\", \n",
        "             \"My reg number is : 20BCS137\", \n",
        "             \"MY age is : 19\", \n",
        "             \"Gender is : MALE\",\n",
        "             \"My branch is : Computer Science Engineering\",\n",
        "             \"Studying in semester : SEM3\")\n",
        "\n",
        "stresult = StudentResult(\"totalmarks of last semester is : 356\",\n",
        "                         \"Percentage of last semester is : 71.2\",\n",
        "                         \"Grade of last semester is : B\")\n",
        "\n",
        "st.display()\n",
        "stresult.display()"
      ],
      "execution_count": 2,
      "outputs": [
        {
          "output_type": "stream",
          "name": "stdout",
          "text": [
            "MY name is : Vineeth S R\n",
            "My reg number is : 20BCS137\n",
            "MY age is : 19\n",
            "Gender is : MALE\n",
            "My branch is : Computer Science Engineering\n",
            "Studying in semester : SEM3\n",
            "totalmarks of last semester is : 356\n",
            "Percentage of last semester is : 71.2\n",
            "Grade of last semester is : B\n"
          ]
        }
      ]
    },
    {
      "cell_type": "markdown",
      "metadata": {
        "id": "F2dikfwSkn57"
      },
      "source": [
        "**Problem-2:**\n",
        "\n",
        "Imagine you&#39;re writing a Content Management system - this system will store two types\n",
        "of documents.\n",
        "\n",
        "1. PDFs (who created, description, file size)\n",
        "2. Pictures (who created, description, image dimensions, file size)\n",
        "\n",
        "Imagine you&#39;re now asked to add a few features:\n",
        "\n",
        "1. Checking to see whether the file size is beyond a certain threshold.\n",
        "2. Display the details of document.\n",
        "3. Checking to see whether it&#39;s too high of dimension of picture.\n",
        "\n",
        "Note: use inheritance concept to reduce length of code."
      ]
    },
    {
      "cell_type": "code",
      "metadata": {
        "colab": {
          "base_uri": "https://localhost:8080/"
        },
        "id": "SaQzygGYX1iG",
        "outputId": "d89504cd-7f7c-4ddf-94bb-c40d85249f25"
      },
      "source": [
        "class pdf( object ):\n",
        "\n",
        "       def __init__(self, creator, description, size):\n",
        "               self.creator = creator\n",
        "               self.description = description\n",
        "               self.size = size\n",
        "\n",
        "       def size_threshold(self):\n",
        "         if self.size > 1000:\n",
        "           print(\"File size is beyond a certain threshold.\")\n",
        "         else :\n",
        "           print(\"File size is within a certain threshold.\")\n",
        "\n",
        "       def display_pdf(self):\n",
        "              print(\"\\nCreator:\", self.creator)\n",
        "              print(\"Description:\", self.description)\n",
        "              print(\"File size (MB):\", self.size)\n",
        "\n",
        "class picture( pdf ):\n",
        "      def __init__(self, creator, description, size, dimension):\n",
        "         pdf.__init__(self, creator, description, size)\n",
        "         self.dimension = dimension\n",
        "\n",
        "      def dimension_threshold(self):\n",
        "          self.size_threshold()\n",
        "          if self.dimension > 5000:\n",
        "            print(\"\\nFile dimension is beyond threshold.\")\n",
        "          else :\n",
        "            print(\"\\nFile dimension is within threshold.\")\n",
        "  \n",
        "      def display_picture(self):\n",
        "          self.display_pdf()\n",
        "          print(\"Dimensions (pixels): \", self.dimension)\n",
        "\n",
        "pic = picture(\"Vineeth S R\", \"Object Oriented Programing [OOP]\", 169, 1567)\n",
        "pic.display_picture()\n",
        "pic.dimension_threshold()\n",
        "\n",
        "pdf = pdf(\"Object Oriented Programing [OOP]\", \"TASK-3\", 196)\n",
        "pdf.display_pdf()\n",
        "pdf.size_threshold()"
      ],
      "execution_count": 5,
      "outputs": [
        {
          "output_type": "stream",
          "name": "stdout",
          "text": [
            "\n",
            "Creator: Vineeth S R\n",
            "Description: Object Oriented Programing [OOP]\n",
            "File size (MB): 169\n",
            "Dimensions (pixels):  1567\n",
            "File size is within a certain threshold.\n",
            "\n",
            "File dimension is within threshold.\n",
            "\n",
            "Creator: Object Oriented Programing [OOP]\n",
            "Description: TASK-3\n",
            "File size (MB): 196\n",
            "File size is within a certain threshold.\n"
          ]
        }
      ]
    },
    {
      "cell_type": "markdown",
      "metadata": {
        "id": "tFXkbKA6lRnD"
      },
      "source": [
        "**Problem-3:**\n",
        "\n",
        "Create vehicle class with data member’s name, mileage and capacity and member\n",
        "function bus fare. Create a Bus child class that inherits from the Vehicle class. The\n",
        "default fare charge of any vehicle is seating capacity * 100. If Vehicle is Bus instance,\n",
        "we need to add an extra 10% on full fare as a maintenance charge. So total fare for bus\n",
        "instance will become the final amount = total fare + 10% of the total fare.\n",
        "\n",
        "Note: The bus seating capacity is 50."
      ]
    },
    {
      "cell_type": "code",
      "metadata": {
        "colab": {
          "base_uri": "https://localhost:8080/"
        },
        "id": "YJe1Awx5bUsR",
        "outputId": "ca5fcb0a-8c15-49ca-c64b-5eaca0cf9650"
      },
      "source": [
        "class vehicle( object ):\n",
        "     def __init__(self, name, mileage, capacity):\n",
        "        self.name = name\n",
        "        self.mileage = mileage\n",
        "        self.capacity = capacity\n",
        "\n",
        "     def fare(self):\n",
        "         print(\"Fare : \", self.capacity * 100)\n",
        "\n",
        "class Bus( vehicle ):\n",
        "      def fare(self):\n",
        "          f = self.capacity * 100 \n",
        "          total_fare = f + (0.1 *f)\n",
        "          print(\"Bus Fare : \", total_fare)\n",
        "\n",
        "Bus = Bus(\"KSRTC\", 20, 50)\n",
        "Bus.fare()\n"
      ],
      "execution_count": 6,
      "outputs": [
        {
          "output_type": "stream",
          "name": "stdout",
          "text": [
            "Bus Fare :  5500.0\n"
          ]
        }
      ]
    }
  ]
}